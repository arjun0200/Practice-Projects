{
 "cells": [
  {
   "cell_type": "markdown",
   "id": "fcaf5fbe",
   "metadata": {},
   "source": [
    "# Salaries"
   ]
  },
  {
   "cell_type": "markdown",
   "id": "6b5c214a",
   "metadata": {},
   "source": [
    "A salary is a form of periodic payment from an employer to an employee, which may be specified in an employment contract. It is contrasted with piece wages, where each job, hour or other unit is paid separately, rather than on a periodic basis. From the point of view of running a business, salary can also be viewed as the cost of acquiring and retaining human resources for running operations, and is then termed personnel expense or salary expense. In accounting, salaries are recorded in payroll accounts."
   ]
  },
  {
   "cell_type": "markdown",
   "id": "1b33d461",
   "metadata": {},
   "source": [
    "Salary is a fixed amount of money or compensation paid to an employee by an employer in return for work performed. Salary is commonly paid in fixed intervals, for example, monthly payments of one-twelfth of the annual salary."
   ]
  },
  {
   "cell_type": "markdown",
   "id": "c359b4fa",
   "metadata": {},
   "source": [
    "Salary is typically determined by comparing market pay rates for people performing similar work in similar industries in the same region. Salary is also determined by leveling the pay rates and salary ranges established by an individual employer. Salary is also affected by the number of people available to perform the specific job in the employer's employment locale"
   ]
  },
  {
   "cell_type": "code",
   "execution_count": 64,
   "id": "f9173b84",
   "metadata": {},
   "outputs": [],
   "source": [
    "import numpy as np\n",
    "import pandas as pd\n",
    "import seaborn as sns\n",
    "import matplotlib.pyplot as plt\n",
    "import warnings\n",
    "warnings.filterwarnings('ignore')"
   ]
  },
  {
   "cell_type": "code",
   "execution_count": 65,
   "id": "ebd6fecc",
   "metadata": {},
   "outputs": [],
   "source": [
    "df = pd.read_csv(\"https://raw.githubusercontent.com/arjun0200/Datasets/main/Salaries.csv\")"
   ]
  },
  {
   "cell_type": "code",
   "execution_count": 66,
   "id": "bc5b6be8",
   "metadata": {},
   "outputs": [
    {
     "data": {
      "text/html": [
       "<div>\n",
       "<style scoped>\n",
       "    .dataframe tbody tr th:only-of-type {\n",
       "        vertical-align: middle;\n",
       "    }\n",
       "\n",
       "    .dataframe tbody tr th {\n",
       "        vertical-align: top;\n",
       "    }\n",
       "\n",
       "    .dataframe thead th {\n",
       "        text-align: right;\n",
       "    }\n",
       "</style>\n",
       "<table border=\"1\" class=\"dataframe\">\n",
       "  <thead>\n",
       "    <tr style=\"text-align: right;\">\n",
       "      <th></th>\n",
       "      <th>rank</th>\n",
       "      <th>discipline</th>\n",
       "      <th>yrs.since.phd</th>\n",
       "      <th>yrs.service</th>\n",
       "      <th>sex</th>\n",
       "      <th>salary</th>\n",
       "    </tr>\n",
       "  </thead>\n",
       "  <tbody>\n",
       "    <tr>\n",
       "      <th>0</th>\n",
       "      <td>Prof</td>\n",
       "      <td>B</td>\n",
       "      <td>19</td>\n",
       "      <td>18</td>\n",
       "      <td>Male</td>\n",
       "      <td>139750</td>\n",
       "    </tr>\n",
       "    <tr>\n",
       "      <th>1</th>\n",
       "      <td>Prof</td>\n",
       "      <td>B</td>\n",
       "      <td>20</td>\n",
       "      <td>16</td>\n",
       "      <td>Male</td>\n",
       "      <td>173200</td>\n",
       "    </tr>\n",
       "    <tr>\n",
       "      <th>2</th>\n",
       "      <td>AsstProf</td>\n",
       "      <td>B</td>\n",
       "      <td>4</td>\n",
       "      <td>3</td>\n",
       "      <td>Male</td>\n",
       "      <td>79750</td>\n",
       "    </tr>\n",
       "    <tr>\n",
       "      <th>3</th>\n",
       "      <td>Prof</td>\n",
       "      <td>B</td>\n",
       "      <td>45</td>\n",
       "      <td>39</td>\n",
       "      <td>Male</td>\n",
       "      <td>115000</td>\n",
       "    </tr>\n",
       "    <tr>\n",
       "      <th>4</th>\n",
       "      <td>Prof</td>\n",
       "      <td>B</td>\n",
       "      <td>40</td>\n",
       "      <td>41</td>\n",
       "      <td>Male</td>\n",
       "      <td>141500</td>\n",
       "    </tr>\n",
       "    <tr>\n",
       "      <th>...</th>\n",
       "      <td>...</td>\n",
       "      <td>...</td>\n",
       "      <td>...</td>\n",
       "      <td>...</td>\n",
       "      <td>...</td>\n",
       "      <td>...</td>\n",
       "    </tr>\n",
       "    <tr>\n",
       "      <th>392</th>\n",
       "      <td>Prof</td>\n",
       "      <td>A</td>\n",
       "      <td>33</td>\n",
       "      <td>30</td>\n",
       "      <td>Male</td>\n",
       "      <td>103106</td>\n",
       "    </tr>\n",
       "    <tr>\n",
       "      <th>393</th>\n",
       "      <td>Prof</td>\n",
       "      <td>A</td>\n",
       "      <td>31</td>\n",
       "      <td>19</td>\n",
       "      <td>Male</td>\n",
       "      <td>150564</td>\n",
       "    </tr>\n",
       "    <tr>\n",
       "      <th>394</th>\n",
       "      <td>Prof</td>\n",
       "      <td>A</td>\n",
       "      <td>42</td>\n",
       "      <td>25</td>\n",
       "      <td>Male</td>\n",
       "      <td>101738</td>\n",
       "    </tr>\n",
       "    <tr>\n",
       "      <th>395</th>\n",
       "      <td>Prof</td>\n",
       "      <td>A</td>\n",
       "      <td>25</td>\n",
       "      <td>15</td>\n",
       "      <td>Male</td>\n",
       "      <td>95329</td>\n",
       "    </tr>\n",
       "    <tr>\n",
       "      <th>396</th>\n",
       "      <td>AsstProf</td>\n",
       "      <td>A</td>\n",
       "      <td>8</td>\n",
       "      <td>4</td>\n",
       "      <td>Male</td>\n",
       "      <td>81035</td>\n",
       "    </tr>\n",
       "  </tbody>\n",
       "</table>\n",
       "<p>397 rows × 6 columns</p>\n",
       "</div>"
      ],
      "text/plain": [
       "         rank discipline  yrs.since.phd  yrs.service   sex  salary\n",
       "0        Prof          B             19           18  Male  139750\n",
       "1        Prof          B             20           16  Male  173200\n",
       "2    AsstProf          B              4            3  Male   79750\n",
       "3        Prof          B             45           39  Male  115000\n",
       "4        Prof          B             40           41  Male  141500\n",
       "..        ...        ...            ...          ...   ...     ...\n",
       "392      Prof          A             33           30  Male  103106\n",
       "393      Prof          A             31           19  Male  150564\n",
       "394      Prof          A             42           25  Male  101738\n",
       "395      Prof          A             25           15  Male   95329\n",
       "396  AsstProf          A              8            4  Male   81035\n",
       "\n",
       "[397 rows x 6 columns]"
      ]
     },
     "execution_count": 66,
     "metadata": {},
     "output_type": "execute_result"
    }
   ],
   "source": [
    "df"
   ]
  },
  {
   "cell_type": "code",
   "execution_count": 67,
   "id": "bce0e636",
   "metadata": {},
   "outputs": [
    {
     "data": {
      "text/plain": [
       "Index(['rank', 'discipline', 'yrs.since.phd', 'yrs.service', 'sex', 'salary'], dtype='object')"
      ]
     },
     "execution_count": 67,
     "metadata": {},
     "output_type": "execute_result"
    }
   ],
   "source": [
    "df.columns"
   ]
  },
  {
   "cell_type": "markdown",
   "id": "5a961587",
   "metadata": {},
   "source": [
    "About the columns"
   ]
  },
  {
   "cell_type": "markdown",
   "id": "1695e308",
   "metadata": {},
   "source": [
    "1. rank:\n",
    "\n",
    "Here \"rank\" is a designation of the employee in the company.\n",
    "\n",
    "2. discipline:\n",
    "    \n",
    "Discipline is a parameter that define punctuality and sincerity of an employee\n",
    "\n",
    "3. yrs.since.phd:\n",
    "\n",
    "Yrs.since.phd is actually defines that Years completed in .phd\n",
    "\n",
    "4. yrs.service:\n",
    "\n",
    "Yrs.service column gives information about the working period of an employee.\n",
    "\n",
    "5. sex:\n",
    "\n",
    "Sex is basically defines gender of the employees.\n",
    "\n",
    "6. salary:\n",
    "\n",
    "Salary is a fixed amount of money or compensation paid to an employee by an employer in return for work performed. Salary is commonly paid in fixed intervals, for example, monthly payments of one-twelfth of the annual salary.\n"
   ]
  },
  {
   "cell_type": "code",
   "execution_count": 68,
   "id": "0bbfcd3c",
   "metadata": {},
   "outputs": [
    {
     "data": {
      "text/plain": [
       "rank             0\n",
       "discipline       0\n",
       "yrs.since.phd    0\n",
       "yrs.service      0\n",
       "sex              0\n",
       "salary           0\n",
       "dtype: int64"
      ]
     },
     "execution_count": 68,
     "metadata": {},
     "output_type": "execute_result"
    }
   ],
   "source": [
    "df.isnull().sum()"
   ]
  },
  {
   "cell_type": "code",
   "execution_count": 69,
   "id": "a5c84392",
   "metadata": {},
   "outputs": [
    {
     "data": {
      "text/plain": [
       "rank             object\n",
       "discipline       object\n",
       "yrs.since.phd     int64\n",
       "yrs.service       int64\n",
       "sex              object\n",
       "salary            int64\n",
       "dtype: object"
      ]
     },
     "execution_count": 69,
     "metadata": {},
     "output_type": "execute_result"
    }
   ],
   "source": [
    "df.dtypes"
   ]
  },
  {
   "cell_type": "markdown",
   "id": "4cad6d29",
   "metadata": {},
   "source": [
    "Checking Datatypes we found that columns rank, discipline, sex are of object (character type) rest are integer"
   ]
  },
  {
   "cell_type": "markdown",
   "id": "aa6118bc",
   "metadata": {},
   "source": [
    "# Exploratory Data Analysis"
   ]
  },
  {
   "cell_type": "markdown",
   "id": "73279b0d",
   "metadata": {},
   "source": [
    "### Scatter plot"
   ]
  },
  {
   "cell_type": "markdown",
   "id": "0f664e00",
   "metadata": {},
   "source": [
    "\n",
    "\n",
    "Checking relationship between two variables"
   ]
  },
  {
   "cell_type": "code",
   "execution_count": 70,
   "id": "1b616b8c",
   "metadata": {},
   "outputs": [
    {
     "data": {
      "text/plain": [
       "<AxesSubplot:xlabel='yrs.since.phd', ylabel='salary'>"
      ]
     },
     "execution_count": 70,
     "metadata": {},
     "output_type": "execute_result"
    },
    {
     "data": {
      "image/png": "[encoded data removed]",
      "text/plain": [
       "<Figure size 432x288 with 1 Axes>"
      ]
     },
     "metadata": {
      "needs_background": "light"
     },
     "output_type": "display_data"
    }
   ],
   "source": [
    "sns.scatterplot(x = 'yrs.since.phd', y = 'salary', data = df)"
   ]
  },
  {
   "cell_type": "markdown",
   "id": "a59277e4",
   "metadata": {},
   "source": [
    "We can see that more years in .phd gives best salaries from the employement "
   ]
  },
  {
   "cell_type": "code",
   "execution_count": 71,
   "id": "743f4cb7",
   "metadata": {},
   "outputs": [
    {
     "data": {
      "text/plain": [
       "<AxesSubplot:xlabel='yrs.service', ylabel='salary'>"
      ]
     },
     "execution_count": 71,
     "metadata": {},
     "output_type": "execute_result"
    },
    {
     "data": {
      "image/png": "[encoded data removed]",
      "text/plain": [
       "<Figure size 432x288 with 1 Axes>"
      ]
     },
     "metadata": {
      "needs_background": "light"
     },
     "output_type": "display_data"
    }
   ],
   "source": [
    "sns.scatterplot(x = 'yrs.service', y = 'salary', data = df)"
   ]
  },
  {
   "cell_type": "markdown",
   "id": "361a1227",
   "metadata": {},
   "source": [
    "We can see that no. of servcie period increase likewise salary also increased."
   ]
  },
  {
   "cell_type": "markdown",
   "id": "bd466a6c",
   "metadata": {},
   "source": [
    "### Histogram\n",
    "\n",
    "For categorical object values"
   ]
  },
  {
   "cell_type": "code",
   "execution_count": 72,
   "id": "bfd81390",
   "metadata": {},
   "outputs": [
    {
     "data": {
      "text/plain": [
       "Prof         266\n",
       "AsstProf      67\n",
       "AssocProf     64\n",
       "Name: rank, dtype: int64"
      ]
     },
     "execution_count": 72,
     "metadata": {},
     "output_type": "execute_result"
    },
    {
     "data": {
      "image/png": "[encoded data removed]",
      "text/plain": [
       "<Figure size 432x288 with 1 Axes>"
      ]
     },
     "metadata": {
      "needs_background": "light"
     },
     "output_type": "display_data"
    }
   ],
   "source": [
    "sns.histplot(df['rank'], color='orange')\n",
    "df['rank'].value_counts()"
   ]
  },
  {
   "cell_type": "markdown",
   "id": "4739ff07",
   "metadata": {},
   "source": [
    "Here we find that rank has 3 different values which are as follows\n",
    "\n",
    "Prof         266,\n",
    "AsstProf      67,\n",
    "AssocProf     64"
   ]
  },
  {
   "cell_type": "code",
   "execution_count": 73,
   "id": "f5e3db71",
   "metadata": {},
   "outputs": [
    {
     "data": {
      "text/plain": [
       "B    216\n",
       "A    181\n",
       "Name: discipline, dtype: int64"
      ]
     },
     "execution_count": 73,
     "metadata": {},
     "output_type": "execute_result"
    },
    {
     "data": {
      "image/png": "[encoded data removed]",
      "text/plain": [
       "<Figure size 432x288 with 1 Axes>"
      ]
     },
     "metadata": {
      "needs_background": "light"
     },
     "output_type": "display_data"
    }
   ],
   "source": [
    "sns.histplot(df['discipline'], color = 'blue', )\n",
    "df['discipline'].value_counts()"
   ]
  },
  {
   "cell_type": "markdown",
   "id": "7d48f5de",
   "metadata": {},
   "source": [
    "Here we find that discipline define in 2 different categories which are as follows\n",
    "\n",
    "B    216,\n",
    "A    181"
   ]
  },
  {
   "cell_type": "code",
   "execution_count": 74,
   "id": "9e48e834",
   "metadata": {},
   "outputs": [
    {
     "data": {
      "text/plain": [
       "Male      358\n",
       "Female     39\n",
       "Name: sex, dtype: int64"
      ]
     },
     "execution_count": 74,
     "metadata": {},
     "output_type": "execute_result"
    },
    {
     "data": {
      "image/png": "[encoded data removed]",
      "text/plain": [
       "<Figure size 432x288 with 1 Axes>"
      ]
     },
     "metadata": {
      "needs_background": "light"
     },
     "output_type": "display_data"
    }
   ],
   "source": [
    "sns.histplot(df['sex'], color = 'grey')\n",
    "df['sex'].value_counts()"
   ]
  },
  {
   "cell_type": "markdown",
   "id": "025be05f",
   "metadata": {},
   "source": [
    "From above graph we found No. of male employees is much greated than female employee\n",
    "\n",
    "Male 358,\n",
    "Female 39\n"
   ]
  },
  {
   "cell_type": "markdown",
   "id": "17297a8a",
   "metadata": {},
   "source": [
    "### Pairplot"
   ]
  },
  {
   "cell_type": "code",
   "execution_count": 75,
   "id": "f79030e8",
   "metadata": {},
   "outputs": [
    {
     "data": {
      "text/plain": [
       "<seaborn.axisgrid.PairGrid at 0x1f21a00b588>"
      ]
     },
     "execution_count": 75,
     "metadata": {},
     "output_type": "execute_result"
    },
    {
     "data": {
      "image/png": "[encoded data removed]",
      "text/plain": [
       "<Figure size 540x540 with 12 Axes>"
      ]
     },
     "metadata": {
      "needs_background": "light"
     },
     "output_type": "display_data"
    }
   ],
   "source": [
    "sns.pairplot(df)"
   ]
  },
  {
   "cell_type": "markdown",
   "id": "cfdce734",
   "metadata": {},
   "source": [
    "### From pairplot Checking again accurately how dataset increases/decrease at different point"
   ]
  },
  {
   "cell_type": "markdown",
   "id": "0066b03b",
   "metadata": {},
   "source": [
    "## Correlation"
   ]
  },
  {
   "cell_type": "code",
   "execution_count": 76,
   "id": "6b9a6b1f",
   "metadata": {},
   "outputs": [
    {
     "data": {
      "text/html": [
       "<div>\n",
       "<style scoped>\n",
       "    .dataframe tbody tr th:only-of-type {\n",
       "        vertical-align: middle;\n",
       "    }\n",
       "\n",
       "    .dataframe tbody tr th {\n",
       "        vertical-align: top;\n",
       "    }\n",
       "\n",
       "    .dataframe thead th {\n",
       "        text-align: right;\n",
       "    }\n",
       "</style>\n",
       "<table border=\"1\" class=\"dataframe\">\n",
       "  <thead>\n",
       "    <tr style=\"text-align: right;\">\n",
       "      <th></th>\n",
       "      <th>yrs.since.phd</th>\n",
       "      <th>yrs.service</th>\n",
       "      <th>salary</th>\n",
       "    </tr>\n",
       "  </thead>\n",
       "  <tbody>\n",
       "    <tr>\n",
       "      <th>yrs.since.phd</th>\n",
       "      <td>1.000000</td>\n",
       "      <td>0.909649</td>\n",
       "      <td>0.419231</td>\n",
       "    </tr>\n",
       "    <tr>\n",
       "      <th>yrs.service</th>\n",
       "      <td>0.909649</td>\n",
       "      <td>1.000000</td>\n",
       "      <td>0.334745</td>\n",
       "    </tr>\n",
       "    <tr>\n",
       "      <th>salary</th>\n",
       "      <td>0.419231</td>\n",
       "      <td>0.334745</td>\n",
       "      <td>1.000000</td>\n",
       "    </tr>\n",
       "  </tbody>\n",
       "</table>\n",
       "</div>"
      ],
      "text/plain": [
       "               yrs.since.phd  yrs.service    salary\n",
       "yrs.since.phd       1.000000     0.909649  0.419231\n",
       "yrs.service         0.909649     1.000000  0.334745\n",
       "salary              0.419231     0.334745  1.000000"
      ]
     },
     "execution_count": 76,
     "metadata": {},
     "output_type": "execute_result"
    }
   ],
   "source": [
    "df.corr()"
   ]
  },
  {
   "cell_type": "code",
   "execution_count": 77,
   "id": "93486dae",
   "metadata": {},
   "outputs": [
    {
     "data": {
      "text/plain": [
       "<AxesSubplot:>"
      ]
     },
     "execution_count": 77,
     "metadata": {},
     "output_type": "execute_result"
    },
    {
     "data": {
      "image/png": "[encoded data removed]",
      "text/plain": [
       "<Figure size 432x288 with 2 Axes>"
      ]
     },
     "metadata": {
      "needs_background": "light"
     },
     "output_type": "display_data"
    }
   ],
   "source": [
    "sns.heatmap(df.corr(), annot = True, linecolor='black', linewidths=0.5, cmap = 'Blues')"
   ]
  },
  {
   "cell_type": "markdown",
   "id": "5c45d7c1",
   "metadata": {},
   "source": [
    "Outcome of correlation\n",
    "\n",
    "All the columns are positively correlated to the salary i.e targeted column.\n",
    "\n",
    "yrs.since.phd shows 91 percent correlation with the targeted column which shows a very good bond.\n",
    "\n",
    "yrs.service shows 42 percent correlation with the targeted column which shows a good bond with the dataset."
   ]
  },
  {
   "cell_type": "markdown",
   "id": "1b8a8cab",
   "metadata": {},
   "source": [
    "Max Correlation : yrs.since.phd\n",
    "\n",
    "Min  Correlation : yrs.service"
   ]
  },
  {
   "cell_type": "markdown",
   "id": "0a0d641b",
   "metadata": {},
   "source": [
    "### Describing database"
   ]
  },
  {
   "cell_type": "code",
   "execution_count": 78,
   "id": "26b1dcd5",
   "metadata": {},
   "outputs": [
    {
     "data": {
      "text/html": [
       "<div>\n",
       "<style scoped>\n",
       "    .dataframe tbody tr th:only-of-type {\n",
       "        vertical-align: middle;\n",
       "    }\n",
       "\n",
       "    .dataframe tbody tr th {\n",
       "        vertical-align: top;\n",
       "    }\n",
       "\n",
       "    .dataframe thead th {\n",
       "        text-align: right;\n",
       "    }\n",
       "</style>\n",
       "<table border=\"1\" class=\"dataframe\">\n",
       "  <thead>\n",
       "    <tr style=\"text-align: right;\">\n",
       "      <th></th>\n",
       "      <th>yrs.since.phd</th>\n",
       "      <th>yrs.service</th>\n",
       "      <th>salary</th>\n",
       "    </tr>\n",
       "  </thead>\n",
       "  <tbody>\n",
       "    <tr>\n",
       "      <th>count</th>\n",
       "      <td>397.000000</td>\n",
       "      <td>397.000000</td>\n",
       "      <td>397.000000</td>\n",
       "    </tr>\n",
       "    <tr>\n",
       "      <th>mean</th>\n",
       "      <td>22.314861</td>\n",
       "      <td>17.614610</td>\n",
       "      <td>113706.458438</td>\n",
       "    </tr>\n",
       "    <tr>\n",
       "      <th>std</th>\n",
       "      <td>12.887003</td>\n",
       "      <td>13.006024</td>\n",
       "      <td>30289.038695</td>\n",
       "    </tr>\n",
       "    <tr>\n",
       "      <th>min</th>\n",
       "      <td>1.000000</td>\n",
       "      <td>0.000000</td>\n",
       "      <td>57800.000000</td>\n",
       "    </tr>\n",
       "    <tr>\n",
       "      <th>25%</th>\n",
       "      <td>12.000000</td>\n",
       "      <td>7.000000</td>\n",
       "      <td>91000.000000</td>\n",
       "    </tr>\n",
       "    <tr>\n",
       "      <th>50%</th>\n",
       "      <td>21.000000</td>\n",
       "      <td>16.000000</td>\n",
       "      <td>107300.000000</td>\n",
       "    </tr>\n",
       "    <tr>\n",
       "      <th>75%</th>\n",
       "      <td>32.000000</td>\n",
       "      <td>27.000000</td>\n",
       "      <td>134185.000000</td>\n",
       "    </tr>\n",
       "    <tr>\n",
       "      <th>max</th>\n",
       "      <td>56.000000</td>\n",
       "      <td>60.000000</td>\n",
       "      <td>231545.000000</td>\n",
       "    </tr>\n",
       "  </tbody>\n",
       "</table>\n",
       "</div>"
      ],
      "text/plain": [
       "       yrs.since.phd  yrs.service         salary\n",
       "count     397.000000   397.000000     397.000000\n",
       "mean       22.314861    17.614610  113706.458438\n",
       "std        12.887003    13.006024   30289.038695\n",
       "min         1.000000     0.000000   57800.000000\n",
       "25%        12.000000     7.000000   91000.000000\n",
       "50%        21.000000    16.000000  107300.000000\n",
       "75%        32.000000    27.000000  134185.000000\n",
       "max        56.000000    60.000000  231545.000000"
      ]
     },
     "execution_count": 78,
     "metadata": {},
     "output_type": "execute_result"
    }
   ],
   "source": [
    "df.describe()"
   ]
  },
  {
   "cell_type": "code",
   "execution_count": 79,
   "id": "373ac9a5",
   "metadata": {},
   "outputs": [
    {
     "data": {
      "text/html": [
       "<div>\n",
       "<style scoped>\n",
       "    .dataframe tbody tr th:only-of-type {\n",
       "        vertical-align: middle;\n",
       "    }\n",
       "\n",
       "    .dataframe tbody tr th {\n",
       "        vertical-align: top;\n",
       "    }\n",
       "\n",
       "    .dataframe thead th {\n",
       "        text-align: right;\n",
       "    }\n",
       "</style>\n",
       "<table border=\"1\" class=\"dataframe\">\n",
       "  <thead>\n",
       "    <tr style=\"text-align: right;\">\n",
       "      <th></th>\n",
       "      <th>rank</th>\n",
       "      <th>discipline</th>\n",
       "      <th>yrs.since.phd</th>\n",
       "      <th>yrs.service</th>\n",
       "      <th>sex</th>\n",
       "      <th>salary</th>\n",
       "    </tr>\n",
       "  </thead>\n",
       "  <tbody>\n",
       "    <tr>\n",
       "      <th>count</th>\n",
       "      <td>397</td>\n",
       "      <td>397</td>\n",
       "      <td>397.000000</td>\n",
       "      <td>397.000000</td>\n",
       "      <td>397</td>\n",
       "      <td>397.000000</td>\n",
       "    </tr>\n",
       "    <tr>\n",
       "      <th>unique</th>\n",
       "      <td>3</td>\n",
       "      <td>2</td>\n",
       "      <td>NaN</td>\n",
       "      <td>NaN</td>\n",
       "      <td>2</td>\n",
       "      <td>NaN</td>\n",
       "    </tr>\n",
       "    <tr>\n",
       "      <th>top</th>\n",
       "      <td>Prof</td>\n",
       "      <td>B</td>\n",
       "      <td>NaN</td>\n",
       "      <td>NaN</td>\n",
       "      <td>Male</td>\n",
       "      <td>NaN</td>\n",
       "    </tr>\n",
       "    <tr>\n",
       "      <th>freq</th>\n",
       "      <td>266</td>\n",
       "      <td>216</td>\n",
       "      <td>NaN</td>\n",
       "      <td>NaN</td>\n",
       "      <td>358</td>\n",
       "      <td>NaN</td>\n",
       "    </tr>\n",
       "    <tr>\n",
       "      <th>mean</th>\n",
       "      <td>NaN</td>\n",
       "      <td>NaN</td>\n",
       "      <td>22.314861</td>\n",
       "      <td>17.614610</td>\n",
       "      <td>NaN</td>\n",
       "      <td>113706.458438</td>\n",
       "    </tr>\n",
       "    <tr>\n",
       "      <th>std</th>\n",
       "      <td>NaN</td>\n",
       "      <td>NaN</td>\n",
       "      <td>12.887003</td>\n",
       "      <td>13.006024</td>\n",
       "      <td>NaN</td>\n",
       "      <td>30289.038695</td>\n",
       "    </tr>\n",
       "    <tr>\n",
       "      <th>min</th>\n",
       "      <td>NaN</td>\n",
       "      <td>NaN</td>\n",
       "      <td>1.000000</td>\n",
       "      <td>0.000000</td>\n",
       "      <td>NaN</td>\n",
       "      <td>57800.000000</td>\n",
       "    </tr>\n",
       "    <tr>\n",
       "      <th>25%</th>\n",
       "      <td>NaN</td>\n",
       "      <td>NaN</td>\n",
       "      <td>12.000000</td>\n",
       "      <td>7.000000</td>\n",
       "      <td>NaN</td>\n",
       "      <td>91000.000000</td>\n",
       "    </tr>\n",
       "    <tr>\n",
       "      <th>50%</th>\n",
       "      <td>NaN</td>\n",
       "      <td>NaN</td>\n",
       "      <td>21.000000</td>\n",
       "      <td>16.000000</td>\n",
       "      <td>NaN</td>\n",
       "      <td>107300.000000</td>\n",
       "    </tr>\n",
       "    <tr>\n",
       "      <th>75%</th>\n",
       "      <td>NaN</td>\n",
       "      <td>NaN</td>\n",
       "      <td>32.000000</td>\n",
       "      <td>27.000000</td>\n",
       "      <td>NaN</td>\n",
       "      <td>134185.000000</td>\n",
       "    </tr>\n",
       "    <tr>\n",
       "      <th>max</th>\n",
       "      <td>NaN</td>\n",
       "      <td>NaN</td>\n",
       "      <td>56.000000</td>\n",
       "      <td>60.000000</td>\n",
       "      <td>NaN</td>\n",
       "      <td>231545.000000</td>\n",
       "    </tr>\n",
       "  </tbody>\n",
       "</table>\n",
       "</div>"
      ],
      "text/plain": [
       "        rank discipline  yrs.since.phd  yrs.service   sex         salary\n",
       "count    397        397     397.000000   397.000000   397     397.000000\n",
       "unique     3          2            NaN          NaN     2            NaN\n",
       "top     Prof          B            NaN          NaN  Male            NaN\n",
       "freq     266        216            NaN          NaN   358            NaN\n",
       "mean     NaN        NaN      22.314861    17.614610   NaN  113706.458438\n",
       "std      NaN        NaN      12.887003    13.006024   NaN   30289.038695\n",
       "min      NaN        NaN       1.000000     0.000000   NaN   57800.000000\n",
       "25%      NaN        NaN      12.000000     7.000000   NaN   91000.000000\n",
       "50%      NaN        NaN      21.000000    16.000000   NaN  107300.000000\n",
       "75%      NaN        NaN      32.000000    27.000000   NaN  134185.000000\n",
       "max      NaN        NaN      56.000000    60.000000   NaN  231545.000000"
      ]
     },
     "execution_count": 79,
     "metadata": {},
     "output_type": "execute_result"
    }
   ],
   "source": [
    "df.describe(include='all')"
   ]
  },
  {
   "cell_type": "markdown",
   "id": "166985ba",
   "metadata": {},
   "source": [
    "Checking all columns of the dataset"
   ]
  },
  {
   "cell_type": "code",
   "execution_count": 80,
   "id": "568d507c",
   "metadata": {},
   "outputs": [
    {
     "data": {
      "text/html": [
       "<div>\n",
       "<style scoped>\n",
       "    .dataframe tbody tr th:only-of-type {\n",
       "        vertical-align: middle;\n",
       "    }\n",
       "\n",
       "    .dataframe tbody tr th {\n",
       "        vertical-align: top;\n",
       "    }\n",
       "\n",
       "    .dataframe thead th {\n",
       "        text-align: right;\n",
       "    }\n",
       "</style>\n",
       "<table border=\"1\" class=\"dataframe\">\n",
       "  <thead>\n",
       "    <tr style=\"text-align: right;\">\n",
       "      <th></th>\n",
       "      <th>rank</th>\n",
       "      <th>discipline</th>\n",
       "      <th>sex</th>\n",
       "    </tr>\n",
       "  </thead>\n",
       "  <tbody>\n",
       "    <tr>\n",
       "      <th>count</th>\n",
       "      <td>397</td>\n",
       "      <td>397</td>\n",
       "      <td>397</td>\n",
       "    </tr>\n",
       "    <tr>\n",
       "      <th>unique</th>\n",
       "      <td>3</td>\n",
       "      <td>2</td>\n",
       "      <td>2</td>\n",
       "    </tr>\n",
       "    <tr>\n",
       "      <th>top</th>\n",
       "      <td>Prof</td>\n",
       "      <td>B</td>\n",
       "      <td>Male</td>\n",
       "    </tr>\n",
       "    <tr>\n",
       "      <th>freq</th>\n",
       "      <td>266</td>\n",
       "      <td>216</td>\n",
       "      <td>358</td>\n",
       "    </tr>\n",
       "  </tbody>\n",
       "</table>\n",
       "</div>"
      ],
      "text/plain": [
       "        rank discipline   sex\n",
       "count    397        397   397\n",
       "unique     3          2     2\n",
       "top     Prof          B  Male\n",
       "freq     266        216   358"
      ]
     },
     "execution_count": 80,
     "metadata": {},
     "output_type": "execute_result"
    }
   ],
   "source": [
    "df[['rank','discipline','sex']].describe()"
   ]
  },
  {
   "cell_type": "markdown",
   "id": "46eda78e",
   "metadata": {},
   "source": [
    "Checking categorical object columns of the dataset"
   ]
  },
  {
   "cell_type": "code",
   "execution_count": 81,
   "id": "8f5d8151",
   "metadata": {},
   "outputs": [
    {
     "data": {
      "text/plain": [
       "Text(0.5, 1.0, 'Summary')"
      ]
     },
     "execution_count": 81,
     "metadata": {},
     "output_type": "execute_result"
    },
    {
     "data": {
      "image/png": "[encoded data removed]",
      "text/plain": [
       "<Figure size 720x360 with 2 Axes>"
      ]
     },
     "metadata": {
      "needs_background": "light"
     },
     "output_type": "display_data"
    }
   ],
   "source": [
    "plt.figure(figsize = (10,5))\n",
    "sns.heatmap(round(df.describe()[1:].transpose(),2), linewidths=2, annot = True, fmt='.2f')\n",
    "plt.title(\"Summary\")"
   ]
  },
  {
   "cell_type": "markdown",
   "id": "d54e9dd5",
   "metadata": {},
   "source": [
    "Outcome of describe of salaries \n",
    "\n",
    "From the above ploting we are finding mean, standard deviation, min, max, value of each columns.\n",
    "It helps us further in data cleaning.\n",
    "\n",
    "Total number of rows/columns in the datasets:\n",
    "    \n",
    "1. 397 Rows\n",
    "2. 6 Columns\n",
    "\n",
    "In which 3 columns are values columns rest are character columns\n",
    "\n",
    "3 Columns having parameters as below\n",
    "\n",
    "yrs.since.phd\n",
    "1. mean 22.314861  \n",
    "2. std  12.887003\n",
    "3. min  1.000000\n",
    "4. max  56.000000\n",
    "\n",
    "yrs.service\n",
    "1. mean 17.614610 \n",
    "2. std  13.006024\n",
    "3. min  0\n",
    "4. max  60.000000\n",
    "\n",
    "salary is the outcome of the dataset\n",
    "1. min 57800.000000\n",
    "2. max 231545.000000\n",
    "\n"
   ]
  },
  {
   "cell_type": "code",
   "execution_count": 82,
   "id": "ee525a12",
   "metadata": {},
   "outputs": [
    {
     "name": "stdout",
     "output_type": "stream",
     "text": [
      "<class 'pandas.core.frame.DataFrame'>\n",
      "RangeIndex: 397 entries, 0 to 396\n",
      "Data columns (total 6 columns):\n",
      " #   Column         Non-Null Count  Dtype \n",
      "---  ------         --------------  ----- \n",
      " 0   rank           397 non-null    object\n",
      " 1   discipline     397 non-null    object\n",
      " 2   yrs.since.phd  397 non-null    int64 \n",
      " 3   yrs.service    397 non-null    int64 \n",
      " 4   sex            397 non-null    object\n",
      " 5   salary         397 non-null    int64 \n",
      "dtypes: int64(3), object(3)\n",
      "memory usage: 18.7+ KB\n"
     ]
    }
   ],
   "source": [
    "df.info()"
   ]
  },
  {
   "cell_type": "markdown",
   "id": "73323b3a",
   "metadata": {},
   "source": [
    "From the above code we conclude datatypes of the columns"
   ]
  },
  {
   "cell_type": "markdown",
   "id": "4ab88d76",
   "metadata": {},
   "source": [
    "### Outliers Checking"
   ]
  },
  {
   "cell_type": "code",
   "execution_count": 83,
   "id": "6aaa6c3b",
   "metadata": {},
   "outputs": [
    {
     "data": {
      "text/plain": [
       "<Figure size 2160x6480 with 0 Axes>"
      ]
     },
     "metadata": {},
     "output_type": "display_data"
    },
    {
     "data": {
      "image/png": "[encoded data removed]",
      "text/plain": [
       "<Figure size 432x288 with 1 Axes>"
      ]
     },
     "metadata": {
      "needs_background": "light"
     },
     "output_type": "display_data"
    },
    {
     "data": {
      "image/png": "[encoded data removed]",
      "text/plain": [
       "<Figure size 432x288 with 1 Axes>"
      ]
     },
     "metadata": {
      "needs_background": "light"
     },
     "output_type": "display_data"
    },
    {
     "data": {
      "image/png": "[encoded data removed]",
      "text/plain": [
       "<Figure size 432x288 with 1 Axes>"
      ]
     },
     "metadata": {
      "needs_background": "light"
     },
     "output_type": "display_data"
    }
   ],
   "source": [
    "df1 = df[['yrs.since.phd', 'yrs.service', 'salary']]\n",
    "\n",
    "collist = df1.columns.values\n",
    "\n",
    "ncol = 30\n",
    "nrow = 10\n",
    "\n",
    "plt.figure(figsize = (ncol,3*ncol))\n",
    "for i in range(0, len(collist)):\n",
    "    #plt.subplot(ncol, nrow, i+1)\n",
    "    plt.show()\n",
    "    sns.boxplot(df[collist[i]], color = 'orange')\n",
    "    plt.tight_layout()\n"
   ]
  },
  {
   "cell_type": "markdown",
   "id": "25ed489a",
   "metadata": {},
   "source": [
    "#### From the above outcomes we conclude that there are outliers present in the salary and yrs.service"
   ]
  },
  {
   "cell_type": "markdown",
   "id": "3e62099b",
   "metadata": {},
   "source": [
    "### "
   ]
  },
  {
   "cell_type": "markdown",
   "id": "15566a1f",
   "metadata": {},
   "source": [
    "# Skewness"
   ]
  },
  {
   "cell_type": "code",
   "execution_count": 84,
   "id": "0198615c",
   "metadata": {
    "scrolled": true
   },
   "outputs": [
    {
     "data": {
      "text/plain": [
       "yrs.since.phd    0.300880\n",
       "yrs.service      0.650569\n",
       "salary           0.714568\n",
       "dtype: float64"
      ]
     },
     "execution_count": 84,
     "metadata": {},
     "output_type": "execute_result"
    }
   ],
   "source": [
    "df.skew()"
   ]
  },
  {
   "cell_type": "markdown",
   "id": "6d92ba79",
   "metadata": {},
   "source": [
    "#### Distplot for checking skewness visually"
   ]
  },
  {
   "cell_type": "code",
   "execution_count": 85,
   "id": "6ca3bc2a",
   "metadata": {},
   "outputs": [
    {
     "data": {
      "image/png": "[encoded data removed]",
      "text/plain": [
       "<Figure size 432x288 with 1 Axes>"
      ]
     },
     "metadata": {
      "needs_background": "light"
     },
     "output_type": "display_data"
    },
    {
     "data": {
      "image/png": "[encoded data removed]",
      "text/plain": [
       "<Figure size 432x288 with 1 Axes>"
      ]
     },
     "metadata": {
      "needs_background": "light"
     },
     "output_type": "display_data"
    },
    {
     "data": {
      "image/png": "[encoded data removed]",
      "text/plain": [
       "<Figure size 432x288 with 1 Axes>"
      ]
     },
     "metadata": {
      "needs_background": "light"
     },
     "output_type": "display_data"
    }
   ],
   "source": [
    "df1 = df[['yrs.since.phd', 'yrs.service', 'salary']]\n",
    "\n",
    "collist1 = df1.columns.values\n",
    "\n",
    "\n",
    "for i in range(len(collist1)):\n",
    "    plt.show()\n",
    "    sns.distplot(df[collist[i]])\n",
    "    "
   ]
  },
  {
   "cell_type": "markdown",
   "id": "8d1802a3",
   "metadata": {},
   "source": [
    "#### From above distribution plots we conclude that skewness present in the every features"
   ]
  },
  {
   "cell_type": "markdown",
   "id": "5721c3c3",
   "metadata": {},
   "source": [
    "#### Making assumptions to remove skewness"
   ]
  },
  {
   "cell_type": "code",
   "execution_count": 86,
   "id": "5c4d2044",
   "metadata": {},
   "outputs": [],
   "source": [
    "df[\"yrs.service\"] = 1-np.sqrt(df[\"yrs.service\"])"
   ]
  },
  {
   "cell_type": "code",
   "execution_count": 87,
   "id": "866d93fb",
   "metadata": {},
   "outputs": [
    {
     "data": {
      "text/plain": [
       "<AxesSubplot:xlabel='yrs.service', ylabel='Density'>"
      ]
     },
     "execution_count": 87,
     "metadata": {},
     "output_type": "execute_result"
    },
    {
     "data": {
      "image/png": "[encoded data removed]",
      "text/plain": [
       "<Figure size 432x288 with 1 Axes>"
      ]
     },
     "metadata": {
      "needs_background": "light"
     },
     "output_type": "display_data"
    }
   ],
   "source": [
    "sns.distplot(df['yrs.service'])"
   ]
  },
  {
   "cell_type": "markdown",
   "id": "99746a9a",
   "metadata": {},
   "source": [
    "#### We can see that skewness present in the salary is being less than the previous one\n"
   ]
  },
  {
   "cell_type": "code",
   "execution_count": 88,
   "id": "ac6e0b46",
   "metadata": {},
   "outputs": [
    {
     "data": {
      "text/plain": [
       "yrs.since.phd    0.300880\n",
       "yrs.service      0.160353\n",
       "salary           0.714568\n",
       "dtype: float64"
      ]
     },
     "execution_count": 88,
     "metadata": {},
     "output_type": "execute_result"
    }
   ],
   "source": [
    "df.skew()"
   ]
  },
  {
   "cell_type": "markdown",
   "id": "2172ee8b",
   "metadata": {},
   "source": [
    "# Data Cleaning/ Formating"
   ]
  },
  {
   "cell_type": "code",
   "execution_count": 89,
   "id": "3a6f0b4a",
   "metadata": {},
   "outputs": [
    {
     "name": "stdout",
     "output_type": "stream",
     "text": [
      "<class 'pandas.core.frame.DataFrame'>\n",
      "RangeIndex: 397 entries, 0 to 396\n",
      "Data columns (total 6 columns):\n",
      " #   Column         Non-Null Count  Dtype  \n",
      "---  ------         --------------  -----  \n",
      " 0   rank           397 non-null    object \n",
      " 1   discipline     397 non-null    object \n",
      " 2   yrs.since.phd  397 non-null    int64  \n",
      " 3   yrs.service    397 non-null    float64\n",
      " 4   sex            397 non-null    object \n",
      " 5   salary         397 non-null    int64  \n",
      "dtypes: float64(1), int64(2), object(3)\n",
      "memory usage: 18.7+ KB\n"
     ]
    }
   ],
   "source": [
    "df.info()"
   ]
  },
  {
   "cell_type": "markdown",
   "id": "fd9f4760",
   "metadata": {},
   "source": [
    "As per dataset we find that there are some characters/categorical columns like rank, discipline, sex which impact salaries of the employee.\n",
    "\n",
    "\n",
    "Hence we converting these columns to numerical(categorical) values "
   ]
  },
  {
   "cell_type": "code",
   "execution_count": 90,
   "id": "43a68468",
   "metadata": {},
   "outputs": [],
   "source": [
    "from sklearn.preprocessing import OrdinalEncoder"
   ]
  },
  {
   "cell_type": "code",
   "execution_count": 91,
   "id": "9bc247a4",
   "metadata": {},
   "outputs": [
    {
     "data": {
      "text/html": [
       "<div>\n",
       "<style scoped>\n",
       "    .dataframe tbody tr th:only-of-type {\n",
       "        vertical-align: middle;\n",
       "    }\n",
       "\n",
       "    .dataframe tbody tr th {\n",
       "        vertical-align: top;\n",
       "    }\n",
       "\n",
       "    .dataframe thead th {\n",
       "        text-align: right;\n",
       "    }\n",
       "</style>\n",
       "<table border=\"1\" class=\"dataframe\">\n",
       "  <thead>\n",
       "    <tr style=\"text-align: right;\">\n",
       "      <th></th>\n",
       "      <th>rank</th>\n",
       "      <th>discipline</th>\n",
       "      <th>yrs.since.phd</th>\n",
       "      <th>yrs.service</th>\n",
       "      <th>sex</th>\n",
       "      <th>salary</th>\n",
       "    </tr>\n",
       "  </thead>\n",
       "  <tbody>\n",
       "    <tr>\n",
       "      <th>0</th>\n",
       "      <td>2.0</td>\n",
       "      <td>1.0</td>\n",
       "      <td>19</td>\n",
       "      <td>-3.242641</td>\n",
       "      <td>1.0</td>\n",
       "      <td>139750</td>\n",
       "    </tr>\n",
       "    <tr>\n",
       "      <th>1</th>\n",
       "      <td>2.0</td>\n",
       "      <td>1.0</td>\n",
       "      <td>20</td>\n",
       "      <td>-3.000000</td>\n",
       "      <td>1.0</td>\n",
       "      <td>173200</td>\n",
       "    </tr>\n",
       "    <tr>\n",
       "      <th>2</th>\n",
       "      <td>1.0</td>\n",
       "      <td>1.0</td>\n",
       "      <td>4</td>\n",
       "      <td>-0.732051</td>\n",
       "      <td>1.0</td>\n",
       "      <td>79750</td>\n",
       "    </tr>\n",
       "    <tr>\n",
       "      <th>3</th>\n",
       "      <td>2.0</td>\n",
       "      <td>1.0</td>\n",
       "      <td>45</td>\n",
       "      <td>-5.244998</td>\n",
       "      <td>1.0</td>\n",
       "      <td>115000</td>\n",
       "    </tr>\n",
       "    <tr>\n",
       "      <th>4</th>\n",
       "      <td>2.0</td>\n",
       "      <td>1.0</td>\n",
       "      <td>40</td>\n",
       "      <td>-5.403124</td>\n",
       "      <td>1.0</td>\n",
       "      <td>141500</td>\n",
       "    </tr>\n",
       "    <tr>\n",
       "      <th>...</th>\n",
       "      <td>...</td>\n",
       "      <td>...</td>\n",
       "      <td>...</td>\n",
       "      <td>...</td>\n",
       "      <td>...</td>\n",
       "      <td>...</td>\n",
       "    </tr>\n",
       "    <tr>\n",
       "      <th>392</th>\n",
       "      <td>2.0</td>\n",
       "      <td>0.0</td>\n",
       "      <td>33</td>\n",
       "      <td>-4.477226</td>\n",
       "      <td>1.0</td>\n",
       "      <td>103106</td>\n",
       "    </tr>\n",
       "    <tr>\n",
       "      <th>393</th>\n",
       "      <td>2.0</td>\n",
       "      <td>0.0</td>\n",
       "      <td>31</td>\n",
       "      <td>-3.358899</td>\n",
       "      <td>1.0</td>\n",
       "      <td>150564</td>\n",
       "    </tr>\n",
       "    <tr>\n",
       "      <th>394</th>\n",
       "      <td>2.0</td>\n",
       "      <td>0.0</td>\n",
       "      <td>42</td>\n",
       "      <td>-4.000000</td>\n",
       "      <td>1.0</td>\n",
       "      <td>101738</td>\n",
       "    </tr>\n",
       "    <tr>\n",
       "      <th>395</th>\n",
       "      <td>2.0</td>\n",
       "      <td>0.0</td>\n",
       "      <td>25</td>\n",
       "      <td>-2.872983</td>\n",
       "      <td>1.0</td>\n",
       "      <td>95329</td>\n",
       "    </tr>\n",
       "    <tr>\n",
       "      <th>396</th>\n",
       "      <td>1.0</td>\n",
       "      <td>0.0</td>\n",
       "      <td>8</td>\n",
       "      <td>-1.000000</td>\n",
       "      <td>1.0</td>\n",
       "      <td>81035</td>\n",
       "    </tr>\n",
       "  </tbody>\n",
       "</table>\n",
       "<p>397 rows × 6 columns</p>\n",
       "</div>"
      ],
      "text/plain": [
       "     rank  discipline  yrs.since.phd  yrs.service  sex  salary\n",
       "0     2.0         1.0             19    -3.242641  1.0  139750\n",
       "1     2.0         1.0             20    -3.000000  1.0  173200\n",
       "2     1.0         1.0              4    -0.732051  1.0   79750\n",
       "3     2.0         1.0             45    -5.244998  1.0  115000\n",
       "4     2.0         1.0             40    -5.403124  1.0  141500\n",
       "..    ...         ...            ...          ...  ...     ...\n",
       "392   2.0         0.0             33    -4.477226  1.0  103106\n",
       "393   2.0         0.0             31    -3.358899  1.0  150564\n",
       "394   2.0         0.0             42    -4.000000  1.0  101738\n",
       "395   2.0         0.0             25    -2.872983  1.0   95329\n",
       "396   1.0         0.0              8    -1.000000  1.0   81035\n",
       "\n",
       "[397 rows x 6 columns]"
      ]
     },
     "execution_count": 91,
     "metadata": {},
     "output_type": "execute_result"
    }
   ],
   "source": [
    "enc = OrdinalEncoder()\n",
    "for i in df.columns:\n",
    "    if df[i].dtypes == 'object':\n",
    "        df[i] = enc.fit_transform(df[i].values.reshape(-1,1))\n",
    "\n",
    "df"
   ]
  },
  {
   "cell_type": "markdown",
   "id": "17961a40",
   "metadata": {},
   "source": [
    "Above code convert object data into numerical values with no data loss"
   ]
  },
  {
   "cell_type": "markdown",
   "id": "6fd4dd0c",
   "metadata": {},
   "source": [
    "## Removing Outliers"
   ]
  },
  {
   "cell_type": "markdown",
   "id": "bfd182b1",
   "metadata": {},
   "source": [
    "#### As from above graphs we can see that every features having outliers"
   ]
  },
  {
   "cell_type": "code",
   "execution_count": 92,
   "id": "c79719cf",
   "metadata": {},
   "outputs": [],
   "source": [
    "min_thresold, max_thresold = df.salary.quantile([0.01,0.95])"
   ]
  },
  {
   "cell_type": "code",
   "execution_count": 93,
   "id": "f66c39d0",
   "metadata": {},
   "outputs": [],
   "source": [
    "df = df[(df['salary']<max_thresold) & (df['salary']>min_thresold)]"
   ]
  },
  {
   "cell_type": "code",
   "execution_count": 94,
   "id": "a9820a84",
   "metadata": {},
   "outputs": [
    {
     "data": {
      "text/plain": [
       "(373, 6)"
      ]
     },
     "execution_count": 94,
     "metadata": {},
     "output_type": "execute_result"
    }
   ],
   "source": [
    "df.shape"
   ]
  },
  {
   "cell_type": "markdown",
   "id": "e7cbc597",
   "metadata": {},
   "source": [
    "Not much data loss "
   ]
  },
  {
   "cell_type": "markdown",
   "id": "0b30073a",
   "metadata": {},
   "source": [
    "## Z-Score technique As assumptions"
   ]
  },
  {
   "cell_type": "code",
   "execution_count": 95,
   "id": "918b8afb",
   "metadata": {},
   "outputs": [],
   "source": [
    "#from scipy.stats import zscore"
   ]
  },
  {
   "cell_type": "code",
   "execution_count": 96,
   "id": "9a69b5d9",
   "metadata": {},
   "outputs": [
    {
     "data": {
      "text/plain": [
       "(373, 6)"
      ]
     },
     "execution_count": 96,
     "metadata": {},
     "output_type": "execute_result"
    }
   ],
   "source": [
    "import numpy as np\n",
    "z = np.abs(zscore(df))\n",
    "z.shape\n",
    "#(397, 6)"
   ]
  },
  {
   "cell_type": "code",
   "execution_count": 97,
   "id": "929e9c46",
   "metadata": {},
   "outputs": [],
   "source": [
    "# thresold = 3\n",
    "# print(np.where(z>3))\n",
    "\n",
    "# (array([  9,  19,  24,  34,  35,  43,  47,  48,  52,  63,  68,  84,  90,\n",
    "#        103, 114, 119, 123, 127, 131, 132, 133, 148, 153, 179, 186, 218,\n",
    "#        230, 231, 233, 237, 245, 253, 254, 274, 316, 323, 330, 332, 334,\n",
    "#        341, 358, 361, 364], dtype=int64), array([4, 4, 4, 4, 4, 5, 4, 4, 4, 4, 4, 4, 4, 4, 4, 4, 4, 4, 3, 4, 4, 4,\n",
    "#        4, 4, 4, 4, 4, 4, 4, 4, 4, 4, 4, 4, 4, 4, 3, 4, 4, 4, 4, 4, 5],\n",
    "#       dtype=int64))"
   ]
  },
  {
   "cell_type": "code",
   "execution_count": 98,
   "id": "0fccaa07",
   "metadata": {},
   "outputs": [],
   "source": [
    "# df_new = df[(z<3).all(axis = 1)]\n",
    "# print(df.shape)\n",
    "# print(df_new.shape)\n",
    "\n",
    "# (397, 6)\n",
    "# (354, 6)\n",
    "# Percentage of data loss greater than 10 %"
   ]
  },
  {
   "cell_type": "markdown",
   "id": "da9f8a19",
   "metadata": {},
   "source": [
    "## From above observation by Z score data loss takes place greater than 10% hence we didn't consider it"
   ]
  },
  {
   "cell_type": "markdown",
   "id": "5563e65c",
   "metadata": {},
   "source": [
    "Percentage of data loss"
   ]
  },
  {
   "cell_type": "code",
   "execution_count": 99,
   "id": "e715cce0",
   "metadata": {},
   "outputs": [
    {
     "name": "stdout",
     "output_type": "stream",
     "text": [
      "6.045340050377834\n"
     ]
    }
   ],
   "source": [
    "loss_percent = (397-373)/397*100\n",
    "print(loss_percent)"
   ]
  },
  {
   "cell_type": "markdown",
   "id": "ce6a0e35",
   "metadata": {},
   "source": [
    "#### From above code we measure that less that 10% of the data are outliers in dataset hence we take it for further observations"
   ]
  },
  {
   "cell_type": "markdown",
   "id": "d55c21fc",
   "metadata": {},
   "source": [
    "### Dividing Data in Features and Vectors"
   ]
  },
  {
   "cell_type": "code",
   "execution_count": 100,
   "id": "e835281a",
   "metadata": {},
   "outputs": [],
   "source": [
    "x = df_new.iloc[:,:-1]\n",
    "y = df_new.iloc[:,-1]"
   ]
  },
  {
   "cell_type": "markdown",
   "id": "afcdfd12",
   "metadata": {},
   "source": [
    "Since outcomes having continuos values we will use regression model"
   ]
  },
  {
   "cell_type": "markdown",
   "id": "88f3be14",
   "metadata": {},
   "source": [
    "### Transforming data to remove skewness"
   ]
  },
  {
   "cell_type": "code",
   "execution_count": 101,
   "id": "e23b8b4c",
   "metadata": {},
   "outputs": [],
   "source": [
    "from sklearn.preprocessing import power_transform\n",
    "x = power_transform(x, method='yeo-johnson')"
   ]
  },
  {
   "cell_type": "code",
   "execution_count": 102,
   "id": "23e27ab7",
   "metadata": {},
   "outputs": [
    {
     "name": "stdout",
     "output_type": "stream",
     "text": [
      "(354, 5)\n",
      "(354,)\n"
     ]
    }
   ],
   "source": [
    "from sklearn.preprocessing import StandardScaler\n",
    "sc = StandardScaler()\n",
    "x = sc.fit_transform(x)\n",
    "print(x.shape)\n",
    "print(y.shape)\n"
   ]
  },
  {
   "cell_type": "code",
   "execution_count": 103,
   "id": "33d32252",
   "metadata": {},
   "outputs": [],
   "source": [
    "from sklearn.model_selection import train_test_split, GridSearchCV\n",
    "from sklearn.linear_model import LinearRegression, SGDRegressor, Lasso, Ridge, ElasticNet\n",
    "from sklearn.ensemble import RandomForestRegressor\n",
    "from sklearn.neighbors import KNeighborsRegressor\n",
    "from sklearn.tree import DecisionTreeRegressor\n",
    "from sklearn.svm import SVR\n",
    "from sklearn.metrics import r2_score, mean_absolute_error, mean_squared_error\n",
    "\n"
   ]
  },
  {
   "cell_type": "markdown",
   "id": "eb81d501",
   "metadata": {},
   "source": [
    "## Splitting the dataframe"
   ]
  },
  {
   "cell_type": "code",
   "execution_count": 129,
   "id": "bbcde688",
   "metadata": {},
   "outputs": [],
   "source": [
    "lr = LinearRegression()"
   ]
  },
  {
   "cell_type": "code",
   "execution_count": 131,
   "id": "2a97d59f",
   "metadata": {},
   "outputs": [
    {
     "name": "stdout",
     "output_type": "stream",
     "text": [
      "\n",
      "\n",
      "At random state 323 The model performs very well\n",
      "At random_state:- 323\n",
      "Training r2_score is:- 39.10662177771409\n",
      "Testing r2_score is:- 39.12906303490297\n",
      "\n",
      "\n",
      "At random state 579 The model performs very well\n",
      "At random_state:- 579\n",
      "Training r2_score is:- 38.626514310584994\n",
      "Testing r2_score is:- 38.64140385436856\n",
      "\n",
      "\n",
      "At random state 852 The model performs very well\n",
      "At random_state:- 852\n",
      "Training r2_score is:- 38.99841039165428\n",
      "Testing r2_score is:- 38.99148890468064\n"
     ]
    }
   ],
   "source": [
    "for i in range(0,1000):\n",
    "    x_train, x_test, y_train, y_test = train_test_split(x, y, random_state = i, test_size = 0.20)\n",
    "    lr.fit(x_train, y_train)\n",
    "    pred_train = lr.predict(x_train)\n",
    "    pred_test = lr.predict(x_test)\n",
    "    if round(r2_score(y_train, pred_train)*100,1) == round(r2_score(y_test, pred_test)*100,1):\n",
    "        print(\"\\n\")\n",
    "\n",
    "        print(\"At random state\", i, \"The model performs very well\" )\n",
    "        print(\"At random_state:-\", i)\n",
    "        print(\"Training r2_score is:-\", r2_score(y_train, pred_train)*100)\n",
    "        print(\"Testing r2_score is:-\", r2_score(y_test, pred_test)*100)"
   ]
  },
  {
   "cell_type": "code",
   "execution_count": 106,
   "id": "4d91e67b",
   "metadata": {},
   "outputs": [],
   "source": [
    "def model(model):\n",
    "    model.fit(x_train, y_train)\n",
    "    final_pred = model.predict(x_test)\n",
    "    print(\"r2_score is:-\", r2_score(y_test, final_pred)*100)"
   ]
  },
  {
   "cell_type": "markdown",
   "id": "3aa55475",
   "metadata": {},
   "source": [
    "# Checking best fit model of Regression"
   ]
  },
  {
   "cell_type": "markdown",
   "id": "ef2da19a",
   "metadata": {},
   "source": [
    "#### Making prediction with Linear Regression"
   ]
  },
  {
   "cell_type": "code",
   "execution_count": 107,
   "id": "bcd12b75",
   "metadata": {},
   "outputs": [
    {
     "name": "stdout",
     "output_type": "stream",
     "text": [
      "r2_score is:- 34.24407420170459\n"
     ]
    }
   ],
   "source": [
    "lr = LinearRegression()\n",
    "model(lr)"
   ]
  },
  {
   "cell_type": "markdown",
   "id": "2f123e4d",
   "metadata": {},
   "source": [
    "#### Regularization method to find best fit mdoel"
   ]
  },
  {
   "cell_type": "markdown",
   "id": "39838942",
   "metadata": {},
   "source": [
    "#### Making prediction with Lasso Regression"
   ]
  },
  {
   "cell_type": "code",
   "execution_count": 108,
   "id": "9bb1fb4f",
   "metadata": {},
   "outputs": [
    {
     "name": "stdout",
     "output_type": "stream",
     "text": [
      "{'alpha': 0.0001, 'random_state': 0}\n"
     ]
    }
   ],
   "source": [
    "parameters = {\"alpha\" : [0.0001, 0.001, 0.01, .1, 1, 10], 'random_state': list(range(0,10))}\n",
    "ls = Lasso()\n",
    "clf = GridSearchCV(ls, parameters)\n",
    "clf.fit(x_train, y_train)\n",
    "\n",
    "print(clf.best_params_)"
   ]
  },
  {
   "cell_type": "code",
   "execution_count": 109,
   "id": "81e047d9",
   "metadata": {},
   "outputs": [
    {
     "name": "stdout",
     "output_type": "stream",
     "text": [
      "\n",
      "\n",
      "At random state 323 The model performs very well\n",
      "At random_state:- 323\n",
      "Training r2_score is:- 39.10662177771407\n",
      "Testing r2_score is:- 39.129063413376045\n",
      "\n",
      "\n",
      "At random state 579 The model performs very well\n",
      "At random_state:- 579\n",
      "Training r2_score is:- 38.626514310584966\n",
      "Testing r2_score is:- 38.64140420107043\n",
      "\n",
      "\n",
      "At random state 852 The model performs very well\n",
      "At random_state:- 852\n",
      "Training r2_score is:- 38.998410391654225\n",
      "Testing r2_score is:- 38.99148914773522\n"
     ]
    }
   ],
   "source": [
    "ls = Lasso(alpha=0.0001, random_state=0)\n",
    "\n",
    "for i in range(0,100):\n",
    "    x_train, x_test, y_train, y_test = train_test_split(x, y, random_state = i, test_size = 0.20)\n",
    "    ls.fit(x_train, y_train)\n",
    "    predls_train = ls.predict(x_train)\n",
    "    predls_test = ls.predict(x_test)\n",
    "    if round(r2_score(y_train, predls_train)*100,1) == round(r2_score(y_test, predls_test)*100,1):\n",
    "        print(\"\\n\")\n",
    "\n",
    "        print(\"At random state\", i, \"The model performs very well\" )\n",
    "        print(\"At random_state:-\", i)\n",
    "        print(\"Training r2_score is:-\", r2_score(y_train, predls_train)*100)\n",
    "        print(\"Testing r2_score is:-\", r2_score(y_test, predls_test)*100)"
   ]
  },
  {
   "cell_type": "markdown",
   "id": "c8c72b71",
   "metadata": {},
   "source": [
    "#### Making prediction with Ridge Regression"
   ]
  },
  {
   "cell_type": "code",
   "execution_count": 110,
   "id": "9e0c5869",
   "metadata": {},
   "outputs": [
    {
     "name": "stdout",
     "output_type": "stream",
     "text": [
      "{'alpha': 1, 'random_state': 0}\n"
     ]
    }
   ],
   "source": [
    "parameters = {\"alpha\" : [0.0001, 0.001, 0.01, .1, 1, 10], 'random_state': list(range(0,10))}\n",
    "rd = Ridge()\n",
    "clf = GridSearchCV(rd, parameters)\n",
    "clf.fit(x_train, y_train)\n",
    "\n",
    "print(clf.best_params_)"
   ]
  },
  {
   "cell_type": "code",
   "execution_count": 111,
   "id": "a7f1cec9",
   "metadata": {},
   "outputs": [
    {
     "name": "stdout",
     "output_type": "stream",
     "text": [
      "\n",
      "\n",
      "At random state 170 The model performs very well\n",
      "At random_state:- 170\n",
      "Training r2_score is:- 38.91130195737049\n",
      "Testing r2_score is:- 38.85910119546636\n",
      "\n",
      "\n",
      "At random state 521 The model performs very well\n",
      "At random_state:- 521\n",
      "Training r2_score is:- 39.016734522527926\n",
      "Testing r2_score is:- 39.02797692579051\n",
      "\n",
      "\n",
      "At random state 567 The model performs very well\n",
      "At random_state:- 567\n",
      "Training r2_score is:- 38.73322003534885\n",
      "Testing r2_score is:- 38.68451920208326\n",
      "\n",
      "\n",
      "At random state 635 The model performs very well\n",
      "At random_state:- 635\n",
      "Training r2_score is:- 38.38001421999036\n",
      "Testing r2_score is:- 38.438891699733546\n"
     ]
    }
   ],
   "source": [
    "rd = Ridge(alpha=1 , random_state=0)\n",
    "\n",
    "for i in range(0,100):\n",
    "    x_train, x_test, y_train, y_test = train_test_split(x, y, random_state = i, test_size = 0.20)\n",
    "    rd.fit(x_train, y_train)\n",
    "    predrd_train = rd.predict(x_train)\n",
    "    predrd_test = rd.predict(x_test)\n",
    "    if round(r2_score(y_train, predrd_train)*100,1) == round(r2_score(y_test, predrd_test)*100,1):\n",
    "        print(\"\\n\")\n",
    "\n",
    "        print(\"At random state\", i, \"The model performs very well\" )\n",
    "        print(\"At random_state:-\", i)\n",
    "        print(\"Training r2_score is:-\", r2_score(y_train, predrd_train)*100)\n",
    "        print(\"Testing r2_score is:-\", r2_score(y_test, predrd_test)*100)"
   ]
  },
  {
   "cell_type": "markdown",
   "id": "d9c84bb2",
   "metadata": {},
   "source": [
    "#### Making prediction with Random forest Regression"
   ]
  },
  {
   "cell_type": "code",
   "execution_count": 112,
   "id": "6671fd57",
   "metadata": {},
   "outputs": [
    {
     "data": {
      "text/plain": [
       "{'criterion': 'mae'}"
      ]
     },
     "execution_count": 112,
     "metadata": {},
     "output_type": "execute_result"
    }
   ],
   "source": [
    "parameters = {\"criterion\": ['mse', 'mae'] }\n",
    "rf = RandomForestRegressor()\n",
    "clf = GridSearchCV(rf, parameters)\n",
    "\n",
    "clf.fit(x_train, y_train)\n",
    "\n",
    "clf.best_params_"
   ]
  },
  {
   "cell_type": "code",
   "execution_count": 114,
   "id": "f69c5926",
   "metadata": {},
   "outputs": [
    {
     "name": "stdout",
     "output_type": "stream",
     "text": [
      "r2_score is:- 32.045197776210955\n"
     ]
    }
   ],
   "source": [
    "rf = RandomForestRegressor(criterion = 'mae', max_features = 'auto')\n",
    "model(rf)"
   ]
  },
  {
   "cell_type": "markdown",
   "id": "17dbea1f",
   "metadata": {},
   "source": [
    "#### Making prediction with KNeighborsRegressor"
   ]
  },
  {
   "cell_type": "code",
   "execution_count": 115,
   "id": "dd766cdf",
   "metadata": {},
   "outputs": [
    {
     "name": "stdout",
     "output_type": "stream",
     "text": [
      "{'leaf_size': 29, 'n_neighbors': 8}\n"
     ]
    }
   ],
   "source": [
    "parameters = {'n_neighbors': list(range(1,10)), \"leaf_size\": list(range(10,50))}\n",
    "\n",
    "knr = KNeighborsRegressor()\n",
    "gknr = GridSearchCV(knr, parameters)\n",
    "gknr.fit(x_train, y_train)\n",
    "\n",
    "print(gknr.best_params_)"
   ]
  },
  {
   "cell_type": "code",
   "execution_count": 116,
   "id": "9a915e38",
   "metadata": {},
   "outputs": [
    {
     "name": "stdout",
     "output_type": "stream",
     "text": [
      "\n",
      "\n",
      "At random state 395 The model performs very well\n",
      "At random_state:- 395\n",
      "Training r2_score is:- 53.914381857070346\n",
      "Testing r2_score is:- 53.91008912879355\n",
      "\n",
      "\n",
      "At random state 716 The model performs very well\n",
      "At random_state:- 716\n",
      "Training r2_score is:- 53.531258206416496\n",
      "Testing r2_score is:- 53.521414513856925\n",
      "\n",
      "\n",
      "At random state 824 The model performs very well\n",
      "At random_state:- 824\n",
      "Training r2_score is:- 53.4508564965926\n",
      "Testing r2_score is:- 53.48007380996931\n"
     ]
    }
   ],
   "source": [
    "knr = KNeighborsRegressor(n_neighbors=8, leaf_size=29)\n",
    "\n",
    "for i in range(0,1000):\n",
    "    x_train, x_test, y_train, y_test = train_test_split(x, y, random_state = i, test_size = 0.20)\n",
    "    knr.fit(x_train, y_train)\n",
    "    predknr_train = knr.predict(x_train)\n",
    "    predknr_test = knr.predict(x_test)\n",
    "    if round(r2_score(y_train, predknr_train)*100,1) == round(r2_score(y_test, predknr_test)*100,1):\n",
    "        print(\"\\n\")\n",
    "\n",
    "        print(\"At random state\", i, \"The model performs very well\" )\n",
    "        print(\"At random_state:-\", i)\n",
    "        print(\"Training r2_score is:-\", r2_score(y_train, predknr_train)*100)\n",
    "        print(\"Testing r2_score is:-\", r2_score(y_test, predknr_test)*100)"
   ]
  },
  {
   "cell_type": "markdown",
   "id": "bff66ec1",
   "metadata": {},
   "source": [
    "#### Making prediction with Decision Tree Regressor"
   ]
  },
  {
   "cell_type": "code",
   "execution_count": 119,
   "id": "e356e39d",
   "metadata": {},
   "outputs": [
    {
     "name": "stdout",
     "output_type": "stream",
     "text": [
      "r2_score is:- 5.257632108784415\n"
     ]
    }
   ],
   "source": [
    "dtr = DecisionTreeRegressor()\n",
    "\n",
    "model(dtr)"
   ]
  },
  {
   "cell_type": "markdown",
   "id": "c390e7f5",
   "metadata": {},
   "source": [
    "#### Making prediction with Support Vector Regressor"
   ]
  },
  {
   "cell_type": "code",
   "execution_count": 120,
   "id": "dc132979",
   "metadata": {},
   "outputs": [
    {
     "name": "stdout",
     "output_type": "stream",
     "text": [
      "{'degree': 9, 'epsilon': 0.1, 'kernel': 'poly'}\n"
     ]
    }
   ],
   "source": [
    "parameters = {\"kernel\" : ['rbf', 'poly', 'linear'], \"epsilon\" : [0.1, 0.2, 0.3,0.4,.5,0.6] ,'degree': list(range(0,10))}\n",
    "svr = SVR()\n",
    "clf = GridSearchCV(svr, parameters)\n",
    "clf.fit(x_train, y_train)\n",
    "\n",
    "print(clf.best_params_)"
   ]
  },
  {
   "cell_type": "code",
   "execution_count": 121,
   "id": "96cc7b01",
   "metadata": {},
   "outputs": [
    {
     "name": "stdout",
     "output_type": "stream",
     "text": [
      "r2_score is:- 2.573101745674966\n"
     ]
    }
   ],
   "source": [
    "svr = SVR(degree=9, epsilon=0.1, kernel = 'poly')\n",
    "model(svr)"
   ]
  },
  {
   "cell_type": "markdown",
   "id": "7dcba729",
   "metadata": {},
   "source": [
    "#### From above observation we found that r2_score of the models is very low."
   ]
  },
  {
   "cell_type": "markdown",
   "id": "897483e1",
   "metadata": {},
   "source": [
    "#### SGD Regression : Stocastic Gradient Descent used to minimize the cost function by finding best functions parameters (coefficients)"
   ]
  },
  {
   "cell_type": "code",
   "execution_count": 122,
   "id": "9e33d5af",
   "metadata": {},
   "outputs": [
    {
     "name": "stdout",
     "output_type": "stream",
     "text": [
      "{'alpha': 0.01, 'epsilon': 0.6}\n"
     ]
    }
   ],
   "source": [
    "parameters = {\"alpha\" : [0.0001, 0.001, 0.01, .1, 1, 10], \"epsilon\" : [0.1, 0.2, 0.3,0.4,.5,0.6]}\n",
    "sgr = SGDRegressor()\n",
    "clf = GridSearchCV(sgr, parameters)\n",
    "clf.fit(x_train, y_train)\n",
    "\n",
    "print(clf.best_params_)"
   ]
  },
  {
   "cell_type": "code",
   "execution_count": 125,
   "id": "1895fc6c",
   "metadata": {},
   "outputs": [
    {
     "name": "stdout",
     "output_type": "stream",
     "text": [
      "r2_score is:- 43.0499538675889\n"
     ]
    }
   ],
   "source": [
    "sgr = SGDRegressor(alpha=0.01, epsilon=0.4)\n",
    "\n",
    "model(sgr)"
   ]
  },
  {
   "cell_type": "markdown",
   "id": "c3c525d2",
   "metadata": {},
   "source": [
    "#### From above models we find that KNieghborRegressor works litterally good then other ones"
   ]
  },
  {
   "cell_type": "markdown",
   "id": "332b7e3a",
   "metadata": {},
   "source": [
    "## CROSS_VAL_SCORE"
   ]
  },
  {
   "cell_type": "code",
   "execution_count": 126,
   "id": "89313fa2",
   "metadata": {},
   "outputs": [
    {
     "name": "stdout",
     "output_type": "stream",
     "text": [
      "cv 2\n",
      "0.4083616916940566\n",
      "cv 3\n",
      "0.3782552020456218\n",
      "cv 4\n",
      "0.39634582633895765\n",
      "cv 5\n",
      "0.37893857539107934\n",
      "cv 6\n",
      "0.37950131727978187\n",
      "cv 7\n",
      "0.3795930162106317\n",
      "cv 8\n",
      "0.38948890012938764\n",
      "cv 9\n",
      "0.3724389655016198\n"
     ]
    }
   ],
   "source": [
    "from sklearn.model_selection import cross_val_score\n",
    "\n",
    "for j in range(2,10):\n",
    "    \n",
    "    score = cross_val_score(knr, x, y, cv = j)\n",
    "    print(\"cv\", j )\n",
    "    print(score.mean())"
   ]
  },
  {
   "cell_type": "markdown",
   "id": "ee80a61e",
   "metadata": {},
   "source": [
    "KNR at CV = 2 works good from the other CVs"
   ]
  },
  {
   "cell_type": "markdown",
   "id": "e4ab958c",
   "metadata": {},
   "source": [
    "## KNeighbors Regressor gives best results from above observations at random state 395"
   ]
  },
  {
   "cell_type": "code",
   "execution_count": 132,
   "id": "9178ee3c",
   "metadata": {},
   "outputs": [
    {
     "name": "stdout",
     "output_type": "stream",
     "text": [
      "r2_score is:- 53.91008912879355\n"
     ]
    }
   ],
   "source": [
    "x_train, x_test, y_train, y_test = train_test_split(x, y, random_state = 395, test_size = 0.20)\n",
    "knr.fit(x_train, y_train)\n",
    "knr_pred = knr.predict(x_test)\n",
    "print(\"r2_score is:-\", r2_score(y_test, knr_pred)*100)"
   ]
  },
  {
   "cell_type": "code",
   "execution_count": 133,
   "id": "f2a0a117",
   "metadata": {},
   "outputs": [
    {
     "data": {
      "image/png": "[encoded data removed]",
      "text/plain": [
       "<Figure size 576x432 with 1 Axes>"
      ]
     },
     "metadata": {
      "needs_background": "light"
     },
     "output_type": "display_data"
    }
   ],
   "source": [
    "plt.figure(figsize = (8,6))\n",
    "plt.scatter(x = y_test, y = knr_pred, color = 'r')\n",
    "plt.plot(y_test, y_test, color = 'b')\n",
    "plt.xlabel(\"actual charges\")\n",
    "plt.ylabel('predicted charges')\n",
    "plt.title('Linear regression')\n",
    "plt.show()"
   ]
  },
  {
   "cell_type": "code",
   "execution_count": 134,
   "id": "ea05b007",
   "metadata": {},
   "outputs": [],
   "source": [
    "import pickle"
   ]
  },
  {
   "cell_type": "code",
   "execution_count": 135,
   "id": "11354b91",
   "metadata": {},
   "outputs": [],
   "source": [
    "filename = \"salariesprediction.pkl\"\n",
    "pickle.dump(knr, open(filename, \"wb\"))"
   ]
  },
  {
   "cell_type": "code",
   "execution_count": null,
   "id": "d3b6614c",
   "metadata": {},
   "outputs": [],
   "source": []
  }
 ],
 "metadata": {
  "kernelspec": {
   "display_name": "Python 3 (ipykernel)",
   "language": "python",
   "name": "python3"
  },
  "language_info": {
   "codemirror_mode": {
    "name": "ipython",
    "version": 3
   },
   "file_extension": ".py",
   "mimetype": "text/x-python",
   "name": "python",
   "nbconvert_exporter": "python",
   "pygments_lexer": "ipython3",
   "version": "3.7.3"
  }
 },
 "nbformat": 4,
 "nbformat_minor": 5
}
